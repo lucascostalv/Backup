{
 "cells": [
  {
   "cell_type": "code",
   "execution_count": 54,
   "metadata": {},
   "outputs": [
    {
     "name": "stdout",
     "output_type": "stream",
     "text": [
      "Overwriting main.c\n"
     ]
    }
   ],
   "source": [
    "%%file main.c\n",
    "#include <stdio.h>\n",
    "#include <stdlib.h>\n",
    "#include <time.h>\n",
    "\n",
    "int main() {\n",
    "    srand(time(NULL));\n",
    "\n",
    "    int m, n, i, j;\n",
    "    printf(\"Enter the number of rows and columns: \");\n",
    "    scanf(\"%d %d\", &m, &n);\n",
    "\n",
    "    int matriz[m][n];\n",
    "\n",
    "    printf(\"Enter the matrix elements:\\n\");\n",
    "    for (i = 0; i < m; i++) {\n",
    "        for (j = 0; j < n; j++) {\n",
    "            printf(\"Enter element at position [%d][%d]: \", i, j);\n",
    "            scanf(\"%d\", &matriz[i][j]);\n",
    "        }\n",
    "    }\n",
    "\n",
    "    printf(\"The matrix is:\\n\");\n",
    "    for (i = 0; i < m; i++) {\n",
    "        for (j = 0; j < n; j++) {\n",
    "            printf(\"%d \", matriz[i][j]);\n",
    "        }\n",
    "        printf(\"\\n\");\n",
    "    }\n",
    "\n",
    "    return 0;\n",
    "}\n"
   ]
  },
  {
   "cell_type": "code",
   "execution_count": 1,
   "metadata": {},
   "outputs": [
    {
     "name": "stdout",
     "output_type": "stream",
     "text": [
      "Microsoft Windows [vers�o 10.0.19045.3693]\n",
      "(c) Microsoft Corporation. Todos os direitos reservados.\n",
      "\n",
      "c:\\Users\\Bender\\OneDrive\\python>gcc main.c -o main\n"
     ]
    },
    {
     "name": "stderr",
     "output_type": "stream",
     "text": [
      "main.c: In function 'main':\n",
      "main.c:5:5: warning: implicit declaration of function 'srand' [-Wimplicit-function-declaration]\n",
      "     srand(time(NULL));\n",
      "     ^~~~~\n"
     ]
    },
    {
     "name": "stdout",
     "output_type": "stream",
     "text": [
      "\n",
      "c:\\Users\\Bender\\OneDrive\\python>main \n",
      "\n",
      "Matriz resultante:\n",
      "3 3 1867469313 \n",
      "-2 6422280 2002022189 \n",
      "4200960 6422352 4201051 \n",
      "\n",
      "c:\\Users\\Bender\\OneDrive\\python>"
     ]
    }
   ],
   "source": [
    "%%cmd\n",
    "gcc main.c -o main\n",
    "main \n",
    "3 3\n"
   ]
  },
  {
   "cell_type": "code",
   "execution_count": 50,
   "metadata": {},
   "outputs": [
    {
     "name": "stdout",
     "output_type": "stream",
     "text": [
      "Overwriting parte1.c\n"
     ]
    }
   ],
   "source": [
    "%%file parte1.c\n",
    "#include <stdio.h>\n",
    "\n",
    "int main() {\n",
    "    printf(\"Esta é a parte 1 do código.\\n\");\n",
    "    return 0;\n",
    "}\n"
   ]
  },
  {
   "cell_type": "code",
   "execution_count": 51,
   "metadata": {},
   "outputs": [
    {
     "name": "stdout",
     "output_type": "stream",
     "text": [
      "Overwriting parte2.c\n"
     ]
    }
   ],
   "source": [
    "%%file parte2.c\n",
    "#include <stdio.h>\n",
    "\n",
    "int main() {\n",
    "    printf(\"Esta é a parte 2 do código.\\n\");\n",
    "    return 0;\n",
    "}\n"
   ]
  },
  {
   "cell_type": "code",
   "execution_count": 52,
   "metadata": {},
   "outputs": [
    {
     "name": "stdout",
     "output_type": "stream",
     "text": [
      "Esta é a parte 1 do código.\n"
     ]
    }
   ],
   "source": [
    "# Executa a parte 1 do código\n",
    "!gcc parte1.c -o parte1\n",
    "!parte1\n"
   ]
  },
  {
   "cell_type": "code",
   "execution_count": 53,
   "metadata": {},
   "outputs": [
    {
     "name": "stdout",
     "output_type": "stream",
     "text": [
      "Esta é a parte 2 do código.\n"
     ]
    }
   ],
   "source": [
    "# Executa a parte 2 do código\n",
    "!gcc parte2.c -o parte2\n",
    "!parte2\n"
   ]
  }
 ],
 "metadata": {
  "kernelspec": {
   "display_name": "Python 3",
   "language": "python",
   "name": "python3"
  },
  "language_info": {
   "codemirror_mode": {
    "name": "ipython",
    "version": 3
   },
   "file_extension": ".py",
   "mimetype": "text/x-python",
   "name": "python",
   "nbconvert_exporter": "python",
   "pygments_lexer": "ipython3",
   "version": "3.12.0"
  }
 },
 "nbformat": 4,
 "nbformat_minor": 2
}

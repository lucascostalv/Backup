{
 "cells": [
  {
   "cell_type": "code",
   "execution_count": 13,
   "metadata": {},
   "outputs": [
    {
     "name": "stdout",
     "output_type": "stream",
     "text": [
      "usar o valor da variavel assim:  5\n",
      "usando o marcador pra exibir o valor variavel: 5\n",
      "convertendo a variavel pro tipo str: 5\n"
     ]
    }
   ],
   "source": [
    "n_int = 5\n",
    "n_dec = 7.3\n",
    "print('usar o valor da variavel assim: ',n_int)\n",
    "print('usando o marcador pra exibir o valor variavel: %i'%n_int)\n",
    "print('convertendo a variavel pro tipo str: ' + str(n_int))"
   ]
  },
  {
   "cell_type": "markdown",
   "metadata": {},
   "source": [
    "Claro, em Python, o `if` é uma estrutura de controle de fluxo que permite executar um bloco de código se uma condição for verdadeira. Aqui está um exemplo simples:\n",
    "\n",
    "```python\n",
    "x = 10\n",
    "\n",
    "if x > 5:\n",
    "    print(\"x é maior que 5\")\n",
    "```\n",
    "\n",
    "Neste exemplo, se o valor de `x` for maior que 5, a mensagem \"x é maior que 5\" será impressa.\n",
    "\n",
    "O `if` pode ser estendido com outras cláusulas como `elif` (abreviação de \"else if\") e `else` para lidar com várias condições:\n",
    "\n",
    "```python\n",
    "x = 10\n",
    "\n",
    "if x > 5:\n",
    "    print(\"x é maior que 5\")\n",
    "elif x == 5:\n",
    "    print(\"x é igual a 5\")\n",
    "else:\n",
    "    print(\"x é menor que 5\")\n",
    "```\n",
    "\n",
    "Neste caso, se `x` for maior que 5, a primeira condição é satisfeita e apenas a mensagem \"x é maior que 5\" será impressa. Se `x` for igual a 5, a segunda condição é satisfeita e apenas a mensagem \"x é igual a 5\" será impressa. Caso contrário, ou seja, se `x` for menor que 5, a terceira condição é satisfeita e apenas a mensagem \"x é menor que 5\" será impressa.\n",
    "\n",
    "Essa estrutura `if`, `elif` e `else` permite criar lógicas de tomada de decisão com base nas condições que você precisa verificar."
   ]
  },
  {
   "cell_type": "code",
   "execution_count": 4,
   "metadata": {},
   "outputs": [
    {
     "name": "stderr",
     "output_type": "stream",
     "text": [
      "\n",
      "KeyboardInterrupt\n",
      "\n"
     ]
    }
   ],
   "source": [
    "numeros = []\n",
    "for i in numeros:\n",
    "  print(numeros)\n",
    "for i in range(1,199):\n",
    "  print(i,len(i))\n",
    "for i in range(len(numeros)):\n",
    "  print(i, numeros[i])"
   ]
  },
  {
   "cell_type": "code",
   "execution_count": null,
   "metadata": {},
   "outputs": [],
   "source": [
    "entrada = input('entrada em python')\n",
    "print('o que voce escrever %s'%entrada)\n",
    "print('{} com {}'.format('cafe','açucar'))\n",
    "print(f'posso formatar assim {entrada}')\n",
    "if (entrada):\n",
    "  i = 1\n",
    "  print(i)"
   ]
  },
  {
   "cell_type": "code",
   "execution_count": 21,
   "metadata": {},
   "outputs": [
    {
     "name": "stdout",
     "output_type": "stream",
     "text": [
      "1\n"
     ]
    }
   ],
   "source": [
    "variavel_global = 0\n",
    "def funcao(a):\n",
    "  print(a)\n",
    "\n",
    "funcao(1)"
   ]
  },
  {
   "cell_type": "code",
   "execution_count": null,
   "metadata": {},
   "outputs": [],
   "source": []
  },
  {
   "cell_type": "code",
   "execution_count": null,
   "metadata": {},
   "outputs": [],
   "source": [
    "simples = 'Heilo World! '\n",
    "duplas = \"aspas dupplas\"\n",
    "multi_linha = \"\"\"\n",
    "posso usar varias linhas usando python\n",
    "\"\"\""
   ]
  },
  {
   "cell_type": "code",
   "execution_count": null,
   "metadata": {},
   "outputs": [],
   "source": [
    "nome = 'Lucas'\n",
    "f'meu nome e {nome}'"
   ]
  },
  {
   "cell_type": "code",
   "execution_count": 45,
   "metadata": {},
   "outputs": [
    {
     "name": "stdout",
     "output_type": "stream",
     "text": [
      "pra ver o tamanho da lista 6\n",
      "indice a da lista da  ['a', 'b', 'c', 'd', 'e', 'f']\n",
      "indice f da lista da  ['a', 'b', 'c', 'd', 'e', 'f']\n",
      "o numero de vezes que d aparece na lista:  1\n",
      "adicionar elementos na lista ['a', 'b', 'c', 'd', 'e', 'f'] None\n",
      "['a', 'b', 'c', 'd', 'e', 'f', 1, 2, 3]\n",
      "menor indice em que aparece 1:  6\n"
     ]
    }
   ],
   "source": [
    "exemplo = ['a','b','c','d','e','f']\n",
    "print('pra ver o tamanho da lista',len(exemplo))\n",
    "print(f'indice {exemplo[0]} da lista da ',exemplo)\n",
    "print(f'indice {exemplo[-1]} da lista da ',exemplo)\n",
    "print(f'o numero de vezes que {exemplo[3]} aparece na lista: ',exemplo.count('d'))\n",
    "print(f'adicionar elementos na lista {exemplo}',exemplo.extend([1,2,3]))\n",
    "print(exemplo)\n",
    "print('menor indice em que aparece 1: ',exemplo.index(1))\n"
   ]
  },
  {
   "cell_type": "markdown",
   "metadata": {},
   "source": [
    "1. `ns.pop()`: Remove e retorna o último elemento da lista `ns`.\n",
    "2. `ns.pop(7)`: Remove e retorna o sétimo elemento da lista `ns` (o número 2).\n",
    "3. `ns.remove(1)`: Remove o elemento 1 da lista `ns`.\n",
    "4. `ns.reverse()`: Inverte a ordem dos elementos na lista `ns`.\n",
    "5. `ns.sort()`: Ordena a lista `ns` do menor para o maior.\n",
    "6. `ns.insert(0, 1)`: Insere o elemento 1 antes do elemento de índice 0 na lista `ns`.\n",
    "7. `ns.clear()`: Remove todos os elementos da lista `ns`.\n",
    "8. `[1, 2, 3] + [4, 5, 6]`: Concatena duas listas, resultando em uma lista que contém elementos das duas listas.\n",
    "9. `['Hi!'] * 4`: Cria uma lista que contém o elemento `'Hi!'` repetido 4 vezes.\n",
    "10. `3 in [1, 2, 3]`: Verifica se o elemento 3 está na lista; retorna True se estiver presente.\n",
    "11. `max([1, 2, 3])`: Retorna o valor máximo da lista (no caso, 3).\n",
    "12. `min([1, 2, 3])`: Retorna o valor mínimo da lista (no caso, 1).\n",
    "13. `xs = [[1, 2, [3, 4, 5]], [6, 7, 8]]`: Cria uma lista aninhada (lista de listas).\n",
    "14. `xs[0][2][1]`: Acessa e retorna o valor 4, que está dentro da lista aninhada.\n"
   ]
  }
 ],
 "metadata": {
  "kernelspec": {
   "display_name": "Python 3",
   "language": "python",
   "name": "python3"
  },
  "language_info": {
   "codemirror_mode": {
    "name": "ipython",
    "version": 3
   },
   "file_extension": ".py",
   "mimetype": "text/x-python",
   "name": "python",
   "nbconvert_exporter": "python",
   "pygments_lexer": "ipython3",
   "version": "3.12.0"
  }
 },
 "nbformat": 4,
 "nbformat_minor": 2
}
